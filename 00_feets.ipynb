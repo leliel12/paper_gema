{
 "cells": [
  {
   "cell_type": "markdown",
   "metadata": {},
   "source": [
    "# Blazars features extractions"
   ]
  },
  {
   "cell_type": "code",
   "execution_count": 39,
   "metadata": {},
   "outputs": [],
   "source": [
    "import glob\n",
    "import pickle\n",
    "\n",
    "import numpy as np\n",
    "\n",
    "from lib import feets_patch\n",
    "\n",
    "from PyAstronomy import pyasl\n",
    "\n",
    "import feets\n",
    "from feets import preprocess\n",
    "\n",
    "import pandas as pd"
   ]
  },
  {
   "cell_type": "code",
   "execution_count": 2,
   "metadata": {},
   "outputs": [],
   "source": [
    "def sort_lc(time, magnitude, error):\n",
    "    order = np.argsort(time)\n",
    "    return time[order], magnitude[order], error[order]"
   ]
  },
  {
   "cell_type": "code",
   "execution_count": 34,
   "metadata": {},
   "outputs": [],
   "source": []
  },
  {
   "cell_type": "code",
   "execution_count": 41,
   "metadata": {},
   "outputs": [
    {
     "name": "stdout",
     "output_type": "stream",
     "text": [
      "blazars/bla1823.dat\n",
      "FULL_SIZE (44, 3)\n",
      "            time  magnitude     error\n",
      "41  56363.394673  12.846973  0.004008\n",
      "17  56114.132684  13.124581  0.004680\n",
      "6   56091.121596  13.137490  0.005736\n",
      "42  56161.118378  13.128125  0.004547\n",
      "15  56229.013159  13.015234  0.005331\n",
      "CLEANED (44,)\n",
      "****************\n",
      "blazars/bla1802.dat\n",
      "FULL_SIZE (49, 3)\n",
      "            time  magnitude     error\n",
      "39  56371.394876  14.951365  0.021535\n",
      "17  56104.112624  14.869695  0.024889\n",
      "13  56020.403231  14.411769  0.014018\n",
      "32  56171.166103  13.926595  0.011284\n",
      "9   55797.193845  15.859229  0.056659\n",
      "CLEANED (49,)\n",
      "****************\n",
      "blazars/bla1731.dat\n",
      "FULL_SIZE (50, 3)\n",
      "            time  magnitude     error\n",
      "19  56155.990905  13.309289  0.022411\n",
      "13  56152.137226  13.388330  0.020749\n",
      "33  56364.295834  13.323221  0.021055\n",
      "18  55688.347556  15.295814  0.037652\n",
      "40  55803.128797  13.387571  0.020284\n",
      "CLEANED (50,)\n",
      "****************\n",
      "blazars/bla1717.dat\n",
      "FULL_SIZE (64, 3)\n",
      "            time  magnitude     error\n",
      "16  56120.117073  14.696898  0.026967\n",
      "34  56172.023166  14.813577  0.036120\n",
      "27  56139.137957  14.622356  0.033045\n",
      "51  56514.042228  14.493076  0.029762\n",
      "25  56133.098361  14.733860  0.028174\n",
      "CLEANED (63,)\n",
      "****************\n"
     ]
    },
    {
     "name": "stderr",
     "output_type": "stream",
     "text": [
      "/home/juan/proyectos/paper_gema/lib/python3.7/site-packages/ipykernel_launcher.py:4: FutureWarning: read_table is deprecated, use read_csv instead.\n",
      "  after removing the cwd from sys.path.\n"
     ]
    }
   ],
   "source": [
    "data = {}\n",
    "for fname in glob.glob(\"blazars/*.dat\"):\n",
    "    \n",
    "    df = pd.read_table(fname, skiprows=9, sep=\",\", names=[\"time\", \"magnitude\", \"error\"])\n",
    "    ra, dec = map(float, open(fname).read().splitlines()[2].split()[1:3])\n",
    "    \n",
    "    df[\"time\"] = df.time.apply(lambda mjd: pyasl.helio_jd(mjd, ra, dec))\n",
    "    \n",
    "    print(fname)\n",
    "    print(\"FULL_SIZE\", df.shape)\n",
    "    print(df.sample(5))\n",
    "    \n",
    "    as_dict = {\n",
    "        \"time\": df.time.values,\n",
    "        \"magnitude\": df.magnitude.values,\n",
    "        \"error\": df.error.values}\n",
    "    clean_dict = dict(zip(as_dict.keys(), sort_lc(*preprocess.remove_noise(**as_dict))))\n",
    "    \n",
    "    print(\"CLEANED\", clean_dict[\"time\"].shape)\n",
    "    \n",
    "    data[fname] = clean_dict\n",
    "    print(\"****************\")"
   ]
  },
  {
   "cell_type": "code",
   "execution_count": 42,
   "metadata": {},
   "outputs": [],
   "source": [
    "with open(\"lc/lc.pkl\", \"wb\") as fp:\n",
    "    pickle.dump(data, fp)"
   ]
  },
  {
   "cell_type": "code",
   "execution_count": 43,
   "metadata": {},
   "outputs": [],
   "source": [
    "fs = feets.FeatureSpace(data=[\"time\", \"magnitude\", \"error\"], exclude=[\"AndersonDarling\", \"StetsonK\"])"
   ]
  },
  {
   "cell_type": "code",
   "execution_count": 44,
   "metadata": {},
   "outputs": [
    {
     "name": "stderr",
     "output_type": "stream",
     "text": [
      "WARNING: AstropyDeprecationWarning: Importing LombScargle from astropy.stats has been deprecated and will no longer be supported in future. Please import this class from the astropy.timeseries module instead [astropy.stats.lombscargle]\n",
      "WARNING: AstropyDeprecationWarning: Importing LombScargle from astropy.stats has been deprecated and will no longer be supported in future. Please import this class from the astropy.timeseries module instead [astropy.stats.lombscargle]\n",
      "WARNING: AstropyDeprecationWarning: Importing LombScargle from astropy.stats has been deprecated and will no longer be supported in future. Please import this class from the astropy.timeseries module instead [astropy.stats.lombscargle]\n",
      "WARNING: AstropyDeprecationWarning: Importing LombScargle from astropy.stats has been deprecated and will no longer be supported in future. Please import this class from the astropy.timeseries module instead [astropy.stats.lombscargle]\n",
      "WARNING: AstropyDeprecationWarning: Importing LombScargle from astropy.stats has been deprecated and will no longer be supported in future. Please import this class from the astropy.timeseries module instead [astropy.stats.lombscargle]\n"
     ]
    }
   ],
   "source": [
    "feats = {}\n",
    "for k, v in data.items():\n",
    "    features, values = fs.extract(**v)\n",
    "    fdict = dict(zip(features, values))\n",
    "    fdict = {k: v for k, v in fdict.items() if \"_dt_\" not in k and \"Signature_\" not in k}\n",
    "    feats[k] = fdict\n"
   ]
  },
  {
   "cell_type": "code",
   "execution_count": 45,
   "metadata": {},
   "outputs": [],
   "source": [
    "pd.DataFrame(feats).to_csv(\"blazars/bla_features.csv\")"
   ]
  },
  {
   "cell_type": "code",
   "execution_count": 47,
   "metadata": {},
   "outputs": [
    {
     "data": {
      "text/plain": [
       "{'Amplitude': 1.8001639999999997,\n",
       " 'Autocor_length': 7.0,\n",
       " 'Beyond1Std': 0.32653061224489793,\n",
       " 'CAR_mean': 2278.572226838228,\n",
       " 'CAR_sigma': 15.37745563259751,\n",
       " 'CAR_tau': 0.006534193116117852,\n",
       " 'Con': 0.0,\n",
       " 'Eta_e': 4988604.270370119,\n",
       " 'FluxPercentileRatioMid20': 0.15257878875122935,\n",
       " 'FluxPercentileRatioMid35': 0.3470049710134725,\n",
       " 'FluxPercentileRatioMid50': 0.4466070600826943,\n",
       " 'FluxPercentileRatioMid65': 0.4751106020292483,\n",
       " 'FluxPercentileRatioMid80': 0.5977872816433191,\n",
       " 'Freq1_harmonics_amplitude_0': 1.1754918692083474,\n",
       " 'Freq1_harmonics_amplitude_1': 0.5517090351552694,\n",
       " 'Freq1_harmonics_amplitude_2': 0.5052430096899357,\n",
       " 'Freq1_harmonics_amplitude_3': 0.2817840232910497,\n",
       " 'Freq1_harmonics_rel_phase_0': 0.0,\n",
       " 'Freq1_harmonics_rel_phase_1': -1.4220826507147462,\n",
       " 'Freq1_harmonics_rel_phase_2': -2.1765044381132137,\n",
       " 'Freq1_harmonics_rel_phase_3': 0.5466743455512325,\n",
       " 'Freq2_harmonics_amplitude_0': 0.5841432899785339,\n",
       " 'Freq2_harmonics_amplitude_1': 0.17401119580703514,\n",
       " 'Freq2_harmonics_amplitude_2': 0.2232242943967949,\n",
       " 'Freq2_harmonics_amplitude_3': 0.09257107951707105,\n",
       " 'Freq2_harmonics_rel_phase_0': 0.0,\n",
       " 'Freq2_harmonics_rel_phase_1': -1.5453260957992505,\n",
       " 'Freq2_harmonics_rel_phase_2': -0.03164654901642672,\n",
       " 'Freq2_harmonics_rel_phase_3': -1.638124917026647,\n",
       " 'Freq3_harmonics_amplitude_0': 0.2663759887572082,\n",
       " 'Freq3_harmonics_amplitude_1': 0.13632603593499662,\n",
       " 'Freq3_harmonics_amplitude_2': 0.20758533787671904,\n",
       " 'Freq3_harmonics_amplitude_3': 0.2323344198483399,\n",
       " 'Freq3_harmonics_rel_phase_0': 0.0,\n",
       " 'Freq3_harmonics_rel_phase_1': -1.4640809465141926,\n",
       " 'Freq3_harmonics_rel_phase_2': 0.08622430726186125,\n",
       " 'Freq3_harmonics_rel_phase_3': 0.12736702844504197,\n",
       " 'Gskew': 1.3958484999999996,\n",
       " 'LinearTrend': -0.0012585108041114155,\n",
       " 'MaxSlope': 542.4864421674733,\n",
       " 'Mean': 14.888630959183674,\n",
       " 'Meanvariance': 0.06082384440601332,\n",
       " 'MedianAbsDev': 0.6819170000000021,\n",
       " 'MedianBRP': 0.2857142857142857,\n",
       " 'PairSlopeTrend': 0.03333333333333333,\n",
       " 'PercentAmplitude': 0.18299365955346147,\n",
       " 'PercentDifferenceFluxPercentile': 0.2293855386121427,\n",
       " 'PeriodLS': 0.9978027700839128,\n",
       " 'Period_fit': 0.0005638140229740074,\n",
       " 'Psi_CS': 0.20542542300757938,\n",
       " 'Psi_eta': 0.7878627033356723,\n",
       " 'Q31': 1.4170269999999991,\n",
       " 'Rcs': 0.3953057856273353,\n",
       " 'Skew': 0.8457890024560686,\n",
       " 'SlottedA_length': 10.0,\n",
       " 'SmallKurtosis': 0.753909752551595,\n",
       " 'Std': 0.9055837728799406,\n",
       " 'StetsonK_AC': 0.7771124755530054,\n",
       " 'StructureFunction_index_21': 1.868266982484934,\n",
       " 'StructureFunction_index_31': 2.6129221382078835,\n",
       " 'StructureFunction_index_32': 1.4157255625575074}"
      ]
     },
     "execution_count": 47,
     "metadata": {},
     "output_type": "execute_result"
    }
   ],
   "source": [
    "feats[\"blazars/bla1802.dat\"]"
   ]
  },
  {
   "cell_type": "code",
   "execution_count": null,
   "metadata": {},
   "outputs": [],
   "source": []
  }
 ],
 "metadata": {
  "kernelspec": {
   "display_name": "Python 3",
   "language": "python",
   "name": "python3"
  },
  "language_info": {
   "codemirror_mode": {
    "name": "ipython",
    "version": 3
   },
   "file_extension": ".py",
   "mimetype": "text/x-python",
   "name": "python",
   "nbconvert_exporter": "python",
   "pygments_lexer": "ipython3",
   "version": "3.7.3"
  }
 },
 "nbformat": 4,
 "nbformat_minor": 2
}
