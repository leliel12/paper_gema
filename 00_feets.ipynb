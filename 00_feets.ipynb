{
 "cells": [
  {
   "cell_type": "markdown",
   "metadata": {},
   "source": [
    "# Blazars features extractions"
   ]
  },
  {
   "cell_type": "code",
   "execution_count": 3,
   "metadata": {},
   "outputs": [],
   "source": [
    "import glob\n",
    "\n",
    "import numpy as np\n",
    "\n",
    "import feets\n",
    "from feets import preprocess\n",
    "\n",
    "import pandas as pd"
   ]
  },
  {
   "cell_type": "code",
   "execution_count": 4,
   "metadata": {},
   "outputs": [],
   "source": [
    "def sort_lc(time, magnitude, error):\n",
    "    order = np.argsort(time)\n",
    "    return time[order], magnitude[order], error[order]"
   ]
  },
  {
   "cell_type": "code",
   "execution_count": 5,
   "metadata": {},
   "outputs": [
    {
     "name": "stdout",
     "output_type": "stream",
     "text": [
      "blazars/bla1717.dat\n",
      "FULL_SIZE (64, 3)\n",
      "         time  magnitude     error\n",
      "7   55842.043  14.569349  0.029619\n",
      "30  56159.018  14.711135  0.029506\n",
      "40  56486.036  14.569436  0.027647\n",
      "51  56514.039  14.493076  0.029762\n",
      "29  56146.128  14.802676  0.033964\n",
      "CLEANED (63,)\n",
      "****************\n",
      "blazars/bla1802.dat\n",
      "FULL_SIZE (49, 3)\n",
      "         time  magnitude     error\n",
      "2   55374.346  14.865431  0.024841\n",
      "34  56191.067  13.555287  0.006420\n",
      "28  56153.001  13.861944  0.008583\n",
      "24  56137.126  13.880656  0.007595\n",
      "40  56381.356  14.786199  0.018592\n",
      "CLEANED (49,)\n",
      "****************\n",
      "blazars/bla1823.dat\n",
      "FULL_SIZE (44, 3)\n",
      "         time  magnitude     error\n",
      "3   56008.390  13.077231  0.004562\n",
      "20  56378.361  12.853883  0.004052\n",
      "23  56369.411  12.843698  0.003832\n",
      "35  56134.149  13.125030  0.004709\n",
      "7   56191.057  13.048705  0.004435\n",
      "CLEANED (44,)\n",
      "****************\n",
      "blazars/bla1731.dat\n",
      "FULL_SIZE (50, 3)\n",
      "         time  magnitude     error\n",
      "33  56364.296  13.323221  0.021055\n",
      "47  56202.014  13.342775  0.018582\n",
      "48  55829.032  13.199040  0.017165\n",
      "3   55448.067  16.213987  0.044653\n",
      "25  55688.340  13.458593  0.020969\n",
      "CLEANED (50,)\n",
      "****************\n"
     ]
    },
    {
     "name": "stderr",
     "output_type": "stream",
     "text": [
      "/home/juan/proyectos/paper_gema/lib/python3.7/site-packages/ipykernel_launcher.py:3: FutureWarning: read_table is deprecated, use read_csv instead.\n",
      "  This is separate from the ipykernel package so we can avoid doing imports until\n"
     ]
    }
   ],
   "source": [
    "data = {}\n",
    "for fname in glob.glob(\"blazars/*.dat\"):\n",
    "    df = pd.read_table(fname, skiprows=9, sep=\",\", names=[\"time\", \"magnitude\", \"error\"])\n",
    "    print(fname)\n",
    "    print(\"FULL_SIZE\", df.shape)\n",
    "    print(df.sample(5))\n",
    "    \n",
    "    \n",
    "    as_dict = {\n",
    "        \"time\": df.time.values,\n",
    "        \"magnitude\": df.magnitude.values,\n",
    "        \"error\": df.error.values}\n",
    "    clean_dict = dict(zip(as_dict.keys(), sort_lc(*preprocess.remove_noise(**as_dict))))\n",
    "    \n",
    "    print(\"CLEANED\", clean_dict[\"time\"].shape)\n",
    "    \n",
    "    data[fname] = clean_dict\n",
    "    print(\"****************\")"
   ]
  },
  {
   "cell_type": "code",
   "execution_count": 6,
   "metadata": {},
   "outputs": [],
   "source": [
    "fs = feets.FeatureSpace(data=[\"time\", \"magnitude\", \"magnitude_error\"], exclude=[\"AndersonDarling\"])"
   ]
  },
  {
   "cell_type": "code",
   "execution_count": 8,
   "metadata": {},
   "outputs": [],
   "source": [
    "feats = {}\n",
    "for k, v in data.items():\n",
    "    features, values = fs.extract(**v)\n",
    "    fdict = dict(zip(features, values))\n",
    "    fdict = {k: v for k, v in fdict.items() if \"_dt_\" not in k and \"Signature_\" not in k}\n",
    "    feats[k] = fdict\n"
   ]
  },
  {
   "cell_type": "code",
   "execution_count": 9,
   "metadata": {},
   "outputs": [],
   "source": [
    "pd.DataFrame(feats).to_csv(\"blazars/bla_features.csv\")"
   ]
  },
  {
   "cell_type": "code",
   "execution_count": null,
   "metadata": {},
   "outputs": [],
   "source": []
  },
  {
   "cell_type": "code",
   "execution_count": 12,
   "metadata": {},
   "outputs": [
    {
     "data": {
      "text/plain": [
       "dict_keys(['Amplitude', 'Autocor_length', 'Con', 'Eta_e', 'FluxPercentileRatioMid20', 'FluxPercentileRatioMid35', 'FluxPercentileRatioMid50', 'FluxPercentileRatioMid65', 'FluxPercentileRatioMid80', 'Freq1_harmonics_amplitude_0', 'Freq1_harmonics_amplitude_1', 'Freq1_harmonics_amplitude_2', 'Freq1_harmonics_amplitude_3', 'Freq1_harmonics_rel_phase_0', 'Freq1_harmonics_rel_phase_1', 'Freq1_harmonics_rel_phase_2', 'Freq1_harmonics_rel_phase_3', 'Freq2_harmonics_amplitude_0', 'Freq2_harmonics_amplitude_1', 'Freq2_harmonics_amplitude_2', 'Freq2_harmonics_amplitude_3', 'Freq2_harmonics_rel_phase_0', 'Freq2_harmonics_rel_phase_1', 'Freq2_harmonics_rel_phase_2', 'Freq2_harmonics_rel_phase_3', 'Freq3_harmonics_amplitude_0', 'Freq3_harmonics_amplitude_1', 'Freq3_harmonics_amplitude_2', 'Freq3_harmonics_amplitude_3', 'Freq3_harmonics_rel_phase_0', 'Freq3_harmonics_rel_phase_1', 'Freq3_harmonics_rel_phase_2', 'Freq3_harmonics_rel_phase_3', 'Gskew', 'LinearTrend', 'MaxSlope', 'Mean', 'Meanvariance', 'MedianAbsDev', 'MedianBRP', 'PairSlopeTrend', 'PercentAmplitude', 'PercentDifferenceFluxPercentile', 'PeriodLS', 'Period_fit', 'Psi_CS', 'Psi_eta', 'Q31', 'Rcs', 'Skew', 'SlottedA_length', 'SmallKurtosis', 'Std', 'StructureFunction_index_21', 'StructureFunction_index_31', 'StructureFunction_index_32'])"
      ]
     },
     "execution_count": 12,
     "metadata": {},
     "output_type": "execute_result"
    }
   ],
   "source": [
    "fdict.keys()"
   ]
  },
  {
   "cell_type": "code",
   "execution_count": null,
   "metadata": {},
   "outputs": [],
   "source": []
  }
 ],
 "metadata": {
  "kernelspec": {
   "display_name": "Python 3",
   "language": "python",
   "name": "python3"
  },
  "language_info": {
   "codemirror_mode": {
    "name": "ipython",
    "version": 3
   },
   "file_extension": ".py",
   "mimetype": "text/x-python",
   "name": "python",
   "nbconvert_exporter": "python",
   "pygments_lexer": "ipython3",
   "version": "3.6.8"
  }
 },
 "nbformat": 4,
 "nbformat_minor": 2
}
